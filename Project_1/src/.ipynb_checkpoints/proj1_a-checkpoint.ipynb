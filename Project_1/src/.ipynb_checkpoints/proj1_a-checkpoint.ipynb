{
 "metadata": {
  "name": ""
 },
 "nbformat": 3,
 "nbformat_minor": 0,
 "worksheets": [
  {
   "cells": [
    {
     "cell_type": "code",
     "collapsed": false,
     "input": [
      "import csv\n",
      "\n",
      "with open('f.txt', 'rb') as file:\n",
      "    f = file.read().replace('\\n', '').split('  ')\n",
      "    f.remove('')\n",
      "    file.close()\n",
      "    \n",
      "with open('z.txt', 'rb') as file:\n",
      "    z = file.read().replace('\\n', '').split('  ')\n",
      "    z.remove('')\n",
      "    file.close()\n",
      "    \n",
      "with open('p4.txt', 'rb') as file:\n",
      "    p4 = file.read().replace('\\n', '').split('  ')\n",
      "    p4.remove('')\n",
      "    file.close()\n",
      "    \n",
      "with open('p8.txt', 'rb') as file:\n",
      "    p8 = file.read().replace('\\n', '').split('  ')\n",
      "    p8.remove('')\n",
      "    file.close()\n",
      "\n",
      "with open('p12.txt', 'rb') as file:\n",
      "    p12 = file.read().replace('\\n', '').split('  ')\n",
      "    p12.remove('')\n",
      "    file.close()\n",
      "\n",
      "with open('err4.txt', 'rb') as file:\n",
      "    err4 = file.read().replace('\\n', '').split('  ')\n",
      "    err4.remove('')\n",
      "    file.close()\n",
      "    \n",
      "with open('err8.txt', 'rb') as file:\n",
      "    err8 = file.read().replace('\\n', '').split('  ')\n",
      "    err8.remove('')\n",
      "    file.close()\n",
      "    \n",
      "with open('err12.txt', 'rb') as file:\n",
      "    err12 = file.read().replace('\\n', '').split('  ')\n",
      "    err12.remove('')\n",
      "    file.close()\n",
      "    \n",
      "    "
     ],
     "language": "python",
     "metadata": {},
     "outputs": [],
     "prompt_number": 71
    },
    {
     "cell_type": "code",
     "collapsed": false,
     "input": [
      "#Debug code to make sure all lists are the same size\n",
      "print len(z)\n",
      "print len(f)\n",
      "print len(p4)\n",
      "print len(p8)\n",
      "print len(p12)\n",
      "print len(err4)\n",
      "print len(err12)\n",
      "print len(err8)"
     ],
     "language": "python",
     "metadata": {},
     "outputs": [
      {
       "output_type": "stream",
       "stream": "stdout",
       "text": [
        "600\n",
        "600\n",
        "600\n",
        "600\n",
        "600\n",
        "600\n",
        "600\n",
        "600\n"
       ]
      }
     ],
     "prompt_number": 72
    },
    {
     "cell_type": "code",
     "collapsed": false,
     "input": [
      "%matplotlib inline\n",
      "\n",
      "import matplotlib.pyplot as plt\n",
      "import numpy as np\n",
      "\n",
      "plt.plot(z, f)\n",
      "plt.plot(z, p4)\n",
      "plt.plot(z, p8)\n",
      "plt.plot(z, p12)\n",
      "\n",
      "plt.show()"
     ],
     "language": "python",
     "metadata": {},
     "outputs": [
      {
       "metadata": {},
       "output_type": "display_data",
       "png": "[encoded data removed]",
       "text": [
        "<matplotlib.figure.Figure at 0x7fc485e81710>"
       ]
      }
     ],
     "prompt_number": 73
    },
    {
     "cell_type": "code",
     "collapsed": false,
     "input": [],
     "language": "python",
     "metadata": {},
     "outputs": []
    }
   ],
   "metadata": {}
  }
 ]
}